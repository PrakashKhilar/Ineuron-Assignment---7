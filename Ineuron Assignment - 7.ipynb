{
 "cells": [
  {
   "cell_type": "markdown",
   "id": "8a761710",
   "metadata": {},
   "source": [
    "# Ineuron Assignmnet - 7"
   ]
  },
  {
   "cell_type": "code",
   "execution_count": 1,
   "id": "2c5f670a",
   "metadata": {},
   "outputs": [],
   "source": [
    "# Q1 : What is the name of the feature responsible for generating Regex objects?"
   ]
  },
  {
   "cell_type": "code",
   "execution_count": null,
   "id": "0c6069cf",
   "metadata": {},
   "outputs": [],
   "source": [
    "# Ans ;\n",
    "Re module (import re).\n",
    "The re.compile() function returns Regex objects."
   ]
  },
  {
   "cell_type": "code",
   "execution_count": null,
   "id": "a817122a",
   "metadata": {},
   "outputs": [],
   "source": [
    "# Q2 : Why do raw strings often appear in Regex objects?"
   ]
  },
  {
   "cell_type": "code",
   "execution_count": null,
   "id": "875bdf1b",
   "metadata": {},
   "outputs": [],
   "source": [
    "# Ans ;\n",
    "The necessity of the raw strings gives way for the string not requiring an escape character when writing a regex object string including a compiler phone number alleviating away from extra back slashes called escape characters.\n",
    "Raw strings are used so that backslashes do not have to be escaped."
   ]
  },
  {
   "cell_type": "code",
   "execution_count": 3,
   "id": "d13fc1e7",
   "metadata": {},
   "outputs": [],
   "source": [
    "# Q3 : What is the return value of the search() method?"
   ]
  },
  {
   "cell_type": "code",
   "execution_count": null,
   "id": "ef7567e0",
   "metadata": {},
   "outputs": [],
   "source": [
    "# Ans;\n",
    "The search() method returns Match objects."
   ]
  },
  {
   "cell_type": "code",
   "execution_count": null,
   "id": "903abfdf",
   "metadata": {},
   "outputs": [],
   "source": [
    "# Q4 : From a Match item, how do you get the actual strings that match the pattern?"
   ]
  },
  {
   "cell_type": "code",
   "execution_count": null,
   "id": "5133989f",
   "metadata": {},
   "outputs": [],
   "source": [
    "# Ans;\n",
    "The group() method returns strings of the matched text."
   ]
  },
  {
   "cell_type": "code",
   "execution_count": null,
   "id": "fef63010",
   "metadata": {},
   "outputs": [],
   "source": [
    "# Q5 : In the regex which created from the r'(\\d\\d\\d)-(\\d\\d\\d-\\d\\d\\d\\d)', what does group zero cover? Group 2? Group 1?"
   ]
  },
  {
   "cell_type": "code",
   "execution_count": null,
   "id": "5a931787",
   "metadata": {},
   "outputs": [],
   "source": [
    "# Ans;\n",
    "Group 0 is the entire match, \n",
    "Group 1 covers the first set of parentheses, \n",
    "And group 2 covers the second set of parentheses."
   ]
  },
  {
   "cell_type": "code",
   "execution_count": null,
   "id": "491427a1",
   "metadata": {},
   "outputs": [],
   "source": [
    "# Q6 : In standard expression syntax, parentheses and intervals have distinct meanings. \n",
    "#     How can you tell a regex that you want it to fit real parentheses and periods?"
   ]
  },
  {
   "cell_type": "code",
   "execution_count": null,
   "id": "9e5ca546",
   "metadata": {},
   "outputs": [],
   "source": [
    "# Ans;\n",
    "\n",
    "Periods and parentheses can be escaped with a backslash: \\., \\(, and \\)."
   ]
  },
  {
   "cell_type": "code",
   "execution_count": null,
   "id": "e494489b",
   "metadata": {},
   "outputs": [],
   "source": [
    "# Q7 :  The findall() method returns a string list or a list of string tuples.\n",
    "#       What causes it to return one of the two options?"
   ]
  },
  {
   "cell_type": "code",
   "execution_count": null,
   "id": "4016e50c",
   "metadata": {},
   "outputs": [],
   "source": [
    "# Ans;\n",
    "\n",
    "If the regex has no groups, a list of strings is returned. \n",
    "If the regex has groups, a list of tuples of strings is returned."
   ]
  },
  {
   "cell_type": "code",
   "execution_count": null,
   "id": "b287cf53",
   "metadata": {},
   "outputs": [],
   "source": [
    "# Q8 : In standard expressions, what does the | character mean?"
   ]
  },
  {
   "cell_type": "code",
   "execution_count": null,
   "id": "20a97723",
   "metadata": {},
   "outputs": [],
   "source": [
    "# Ans ;\n",
    "The | character signifies matching \"either, or\" between two groups. \n"
   ]
  },
  {
   "cell_type": "code",
   "execution_count": null,
   "id": "de14a5b5",
   "metadata": {},
   "outputs": [],
   "source": [
    "# Q9 : In regular expressions, what does the character stand for?"
   ]
  },
  {
   "cell_type": "code",
   "execution_count": null,
   "id": "c684fb60",
   "metadata": {},
   "outputs": [],
   "source": [
    "# Ans ;\n",
    "The ? character can either mean \"match zero or one of the preceding group\" or be used to signify nongreedy matching."
   ]
  },
  {
   "cell_type": "code",
   "execution_count": null,
   "id": "59a31d8d",
   "metadata": {},
   "outputs": [],
   "source": [
    "# Q10 : In regular expressions, what is the difference between the + and * characters?"
   ]
  },
  {
   "cell_type": "code",
   "execution_count": null,
   "id": "1abed64f",
   "metadata": {},
   "outputs": [],
   "source": [
    "# Ans;\n",
    "The + matches one or more. The * matches zero or more."
   ]
  },
  {
   "cell_type": "code",
   "execution_count": null,
   "id": "ee4154a7",
   "metadata": {},
   "outputs": [],
   "source": [
    "# Q11 :What is the difference between {4} and {4,5} in regular expression?"
   ]
  },
  {
   "cell_type": "code",
   "execution_count": null,
   "id": "b1c44d70",
   "metadata": {},
   "outputs": [],
   "source": [
    "# Ans;\n",
    "The {4} matches exactly three instances of the preceding group. \n",
    "The {4,5} matches between four and five instances."
   ]
  },
  {
   "cell_type": "code",
   "execution_count": null,
   "id": "90c78d7e",
   "metadata": {},
   "outputs": [],
   "source": [
    "# Q12 :  What do the \\d, \\w, and \\s shorthand character classes signify in regular expressions?"
   ]
  },
  {
   "cell_type": "code",
   "execution_count": null,
   "id": "87a5e3db",
   "metadata": {},
   "outputs": [],
   "source": [
    "# Ans;\n",
    "# \\d signifies Any numeric digit from 0 thru 9.\n",
    "# \\w signifies any letter, numeric digit, or the underscore character.\n",
    "# \\s- signifies Any space, tab, or newline character.\n",
    "\n",
    "The \\d, \\w, and \\s shorthand character classes match a single digit, word, or space character, respectively."
   ]
  },
  {
   "cell_type": "code",
   "execution_count": null,
   "id": "34581bc0",
   "metadata": {},
   "outputs": [],
   "source": [
    "# Q13 : What do the \\D, \\W, and \\S shorthand character classes signify in regular expressions?"
   ]
  },
  {
   "cell_type": "code",
   "execution_count": null,
   "id": "efa1920a",
   "metadata": {},
   "outputs": [],
   "source": [
    "# Ans;\n",
    "# \\D Any character that is not a numeric digit from 0 thru 9.\n",
    "# \\W signifies Any character that is not a letter, numeric digit, or the underscore character.\n",
    "# \\S Any character that is not a space, tab, or newline.\n",
    "\n",
    "The \\D, \\W, and \\S shorthand character classes match a single character that is not a digit, word, or space character, respectively."
   ]
  },
  {
   "cell_type": "code",
   "execution_count": 9,
   "id": "77a3c0ec",
   "metadata": {},
   "outputs": [],
   "source": [
    "# Q14 : What is the difference between these two: .* and .*? "
   ]
  },
  {
   "cell_type": "code",
   "execution_count": null,
   "id": "32d36997",
   "metadata": {},
   "outputs": [],
   "source": [
    "# Ans;\n",
    "\n",
    "The . performs a greedy match, and the .? performs a nongreedy match."
   ]
  },
  {
   "cell_type": "code",
   "execution_count": null,
   "id": "8fc9abc0",
   "metadata": {},
   "outputs": [],
   "source": [
    "# Q15 : What is the syntax for matching both numbers and lowercase letters with a character class?"
   ]
  },
  {
   "cell_type": "code",
   "execution_count": null,
   "id": "9217e3f4",
   "metadata": {},
   "outputs": [],
   "source": [
    "# Ans ;\n",
    "Either [0-9a-z] or [a-z0-9]"
   ]
  },
  {
   "cell_type": "code",
   "execution_count": null,
   "id": "e0acd667",
   "metadata": {},
   "outputs": [],
   "source": [
    "# Q16 : What is the procedure for making a normal expression in regax case insensitive?"
   ]
  },
  {
   "cell_type": "code",
   "execution_count": null,
   "id": "e61529cc",
   "metadata": {},
   "outputs": [],
   "source": [
    "# Ans;\n",
    "Passing re.I or re.IGNORECASE as the second argument to re.compile() will make the matching case insensitive."
   ]
  },
  {
   "cell_type": "code",
   "execution_count": 5,
   "id": "bd974f09",
   "metadata": {},
   "outputs": [],
   "source": [
    "# Q17 : What does the . character normally match? What does it match if re.DOTALL is passed as 2nd argument in re.compile()?"
   ]
  },
  {
   "cell_type": "code",
   "execution_count": 6,
   "id": "a9028332",
   "metadata": {},
   "outputs": [
    {
     "ename": "SyntaxError",
     "evalue": "invalid syntax (1199233409.py, line 2)",
     "output_type": "error",
     "traceback": [
      "\u001b[1;36m  Input \u001b[1;32mIn [6]\u001b[1;36m\u001b[0m\n\u001b[1;33m    You use the. With an escape character for exemplar \\r\\s etcetera.\u001b[0m\n\u001b[1;37m        ^\u001b[0m\n\u001b[1;31mSyntaxError\u001b[0m\u001b[1;31m:\u001b[0m invalid syntax\n"
     ]
    }
   ],
   "source": [
    "# Ans;\n",
    "You use the. With an escape character for exemplar \\r\\s etcetera. \n",
    "As for the re.DOTALL matches all characters, including the new line"
   ]
  },
  {
   "cell_type": "code",
   "execution_count": 8,
   "id": "7506d155",
   "metadata": {},
   "outputs": [
    {
     "ename": "SyntaxError",
     "evalue": "unexpected character after line continuation character (3288138769.py, line 1)",
     "output_type": "error",
     "traceback": [
      "\u001b[1;36m  Input \u001b[1;32mIn [8]\u001b[1;36m\u001b[0m\n\u001b[1;33m    \\r\u001b[0m\n\u001b[1;37m     ^\u001b[0m\n\u001b[1;31mSyntaxError\u001b[0m\u001b[1;31m:\u001b[0m unexpected character after line continuation character\n"
     ]
    }
   ],
   "source": [
    "\n"
   ]
  },
  {
   "cell_type": "code",
   "execution_count": 10,
   "id": "8966e120",
   "metadata": {},
   "outputs": [],
   "source": [
    "# Q18 : If numReg = re.compile(r'\\d+'), what will numRegex.sub('X', '11 drummers, 10 pipers, five rings, 4 hen') return?"
   ]
  },
  {
   "cell_type": "code",
   "execution_count": null,
   "id": "21bc41a6",
   "metadata": {},
   "outputs": [],
   "source": [
    "# Ans;\n",
    "The sub method returns a string with substitutions related and the num. regex imports the module in the string – the variables in the parens and the lists of nouns tell you the items your importing.) \n",
    "X drummers, X pipers, five rings, X hens'\n"
   ]
  },
  {
   "cell_type": "code",
   "execution_count": null,
   "id": "bf15348c",
   "metadata": {},
   "outputs": [],
   "source": [
    "# Q19 : What does passing re.VERBOSE as the 2nd argument to re.compile() allow to do?"
   ]
  },
  {
   "cell_type": "code",
   "execution_count": null,
   "id": "7919b192",
   "metadata": {},
   "outputs": [],
   "source": [
    "# Ans;\n",
    "The re.VERBOSE argument allows you to add whitespace and comments to the string passed to re.compile()."
   ]
  },
  {
   "cell_type": "code",
   "execution_count": null,
   "id": "398a220e",
   "metadata": {},
   "outputs": [],
   "source": [
    "# Q20 :\n",
    "\n",
    "How would you write a regex that match a number with comma for every three digits? It must match the given following:\n",
    "'42'\n",
    "'1,234'\n",
    "'6,368,745'\n",
    "but not the following:\n",
    "'12,34,567' (which has only two digits between the commas)\n",
    "'1234' (which lacks commas)\n"
   ]
  },
  {
   "cell_type": "code",
   "execution_count": null,
   "id": "26237483",
   "metadata": {},
   "outputs": [],
   "source": [
    "# Ans; \n",
    "re.compile(r'^\\d{1,3}(,\\d{3})*$') will create this regex, but other regex strings can produce a similar regular expression."
   ]
  },
  {
   "cell_type": "code",
   "execution_count": null,
   "id": "6a79cad0",
   "metadata": {},
   "outputs": [],
   "source": [
    "# Q21 : \n",
    "\n",
    "How would you write a regex that matches the full name of someone whose last name is Watanabe? You can assume that the first name that comes before it will always be one word that begins with a capital letter. The regex must match the following:\n",
    "'Haruto Watanabe'\n",
    "'Alice Watanabe'\n",
    "'RoboCop Watanabe'\n",
    "but not the following:\n",
    "'haruto Watanabe' (where the first name is not capitalized)\n",
    "'Mr. Watanabe' (where the preceding word has a nonletter character)\n",
    "'Watanabe' (which has no first name)\n",
    "'Haruto watanabe' (where Watanabe is not capitalized)\n"
   ]
  },
  {
   "cell_type": "code",
   "execution_count": null,
   "id": "691794eb",
   "metadata": {},
   "outputs": [],
   "source": [
    "# Ans;\n",
    "re.compile(r'[A-Z][a-z]*\\sNakamoto')"
   ]
  },
  {
   "cell_type": "code",
   "execution_count": null,
   "id": "bf39bfab",
   "metadata": {},
   "outputs": [],
   "source": [
    "# Q22 : \n",
    "How would you write a regex that matches a sentence where the first word is either Alice, Bob, or Carol; the second word is either eats, pets, or throws; the third word is apples, cats, or baseballs; and the sentence ends with a period? This regex should be case-insensitive. It must match the following:\n",
    "'Alice eats apples.'\n",
    "'Bob pets cats.'\n",
    "'Carol throws baseballs.'\n",
    "'Alice throws Apples.'\n",
    "'BOB EATS CATS.'\n",
    "but not the following:\n",
    "'RoboCop eats apples.'\n",
    "'ALICE THROWS FOOTBALLS.'\n",
    "'Carol eats 7 cats.'\n"
   ]
  },
  {
   "cell_type": "code",
   "execution_count": null,
   "id": "7d949ca7",
   "metadata": {},
   "outputs": [],
   "source": [
    "# Ans;\n",
    "\n",
    "re.compile(r'(Alice|Bob|Carol)\\s(eats|pets|throws)\\s(apples|cats|baseballs)\\.', re.IGNORECASE)"
   ]
  }
 ],
 "metadata": {
  "kernelspec": {
   "display_name": "Python 3 (ipykernel)",
   "language": "python",
   "name": "python3"
  },
  "language_info": {
   "codemirror_mode": {
    "name": "ipython",
    "version": 3
   },
   "file_extension": ".py",
   "mimetype": "text/x-python",
   "name": "python",
   "nbconvert_exporter": "python",
   "pygments_lexer": "ipython3",
   "version": "3.9.12"
  }
 },
 "nbformat": 4,
 "nbformat_minor": 5
}
